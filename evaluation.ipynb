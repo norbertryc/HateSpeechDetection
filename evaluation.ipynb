{
 "cells": [
  {
   "cell_type": "code",
   "execution_count": 1,
   "id": "8388b346",
   "metadata": {},
   "outputs": [],
   "source": [
    "import os\n",
    "import pickle\n",
    "import json\n",
    "import timeit\n",
    "\n",
    "import numpy as np\n",
    "import pandas as pd\n",
    "\n",
    "from sklearn.pipeline import Pipeline\n",
    "from sklearn.model_selection import GridSearchCV, train_test_split, cross_val_score, cross_val_predict\n",
    "from sklearn.metrics import accuracy_score, f1_score, roc_auc_score\n",
    "\n",
    "from sklearn.preprocessing import StandardScaler, PowerTransformer\n",
    "from sklearn.feature_extraction.text import CountVectorizer, TfidfVectorizer\n",
    "\n",
    "from sklearn.decomposition import TruncatedSVD\n",
    "\n",
    "from sklearn.naive_bayes import MultinomialNB\n",
    "from sklearn.svm import LinearSVC\n",
    "from sklearn.neural_network import MLPClassifier\n",
    "\n",
    "import mlflow\n",
    "\n",
    "import torch\n",
    "from transformers import RobertaModel, AutoModel, PreTrainedTokenizerFast"
   ]
  },
  {
   "cell_type": "code",
   "execution_count": 14,
   "id": "660becca",
   "metadata": {},
   "outputs": [],
   "source": [
    "DATA_FOLDER = \"data/\"\n",
    "\n",
    "X_TEST_FILE_NAME = \"test_set_only_text.txt\"\n",
    "Y_TEST_FILE_NAME = \"test_set_only_tags.txt\"\n",
    "\n",
    "with open(os.path.join(DATA_FOLDER, X_TEST_FILE_NAME), \"r\") as input_file:\n",
    "    X_test = input_file.readlines()\n",
    "    \n",
    "with open(os.path.join(DATA_FOLDER, Y_TEST_FILE_NAME), \"r\") as input_file:\n",
    "    y_test = input_file.readlines()\n",
    "    \n",
    "    \n",
    "X_test = np.array([x.strip() for x in X_test])\n",
    "y_test = np.array([int(x.strip()) for x in y_test])"
   ]
  },
  {
   "cell_type": "code",
   "execution_count": 22,
   "id": "abc8bfac",
   "metadata": {},
   "outputs": [
    {
     "name": "stderr",
     "output_type": "stream",
     "text": [
      "Some weights of the model checkpoint at roberta_base_transformers were not used when initializing RobertaModel: ['lm_head.dense.weight', 'lm_head.dense.bias', 'lm_head.decoder.bias', 'lm_head.bias', 'lm_head.layer_norm.bias', 'lm_head.decoder.weight', 'lm_head.layer_norm.weight']\n",
      "- This IS expected if you are initializing RobertaModel from the checkpoint of a model trained on another task or with another architecture (e.g. initializing a BertForSequenceClassification model from a BertForPreTraining model).\n",
      "- This IS NOT expected if you are initializing RobertaModel from the checkpoint of a model that you expect to be exactly identical (initializing a BertForSequenceClassification model from a BertForSequenceClassification model).\n",
      "Some weights of RobertaModel were not initialized from the model checkpoint at roberta_base_transformers and are newly initialized: ['roberta.pooler.dense.bias', 'roberta.pooler.dense.weight']\n",
      "You should probably TRAIN this model on a down-stream task to be able to use it for predictions and inference.\n"
     ]
    }
   ],
   "source": [
    "model_dir = \"roberta_base_transformers\"\n",
    "TOKENIZER = PreTrainedTokenizerFast(tokenizer_file=os.path.join(model_dir, \"tokenizer.json\"))\n",
    "ENCODER: RobertaModel = AutoModel.from_pretrained(model_dir)\n",
    "\n",
    "with open(\"best_models/transformer_top_best_model.pkl\", \"rb\") as f:\n",
    "    transformer_top_best_model = pickle.load(f)\n",
    "    \n",
    "class TransformerWrapper(object):\n",
    "    \n",
    "    def __init__(self, tokenizer, encoder, model):\n",
    "        \n",
    "        self.tokenizer = tokenizer\n",
    "        self.encoder = encoder\n",
    "        self.model = model\n",
    "    \n",
    "    def predict(self, X):\n",
    "        \n",
    "        X_tokenized = [self.tokenizer.encode(x) for x in np.array(X)]\n",
    "        X_encoded = np.array([MODEL(torch.tensor([x]))[0][0][1].detach().numpy() for x in X_tokenized])\n",
    "        predictions = self.model.predict(X_encoded)\n",
    "        \n",
    "        return predictions \n",
    "    \n",
    "transformer_encoder_based_best_model = TransformerWrapper(TOKENIZER, ENCODER, transformer_top_best_model)"
   ]
  },
  {
   "cell_type": "code",
   "execution_count": 20,
   "id": "64f5e0f5",
   "metadata": {},
   "outputs": [],
   "source": [
    "with open(\"best_models/classic_ml_best_model.pkl\", \"rb\") as f:\n",
    "    classic_ml_best_model = pickle.load(f)"
   ]
  },
  {
   "cell_type": "code",
   "execution_count": 37,
   "id": "565c124b",
   "metadata": {},
   "outputs": [],
   "source": [
    "results = {\"name\":[], \"score\":[], \"prediction_speed\":[]}\n",
    "\n",
    "for name, model in zip([\"classic_ml\", \"transformer_encoder_based\"], \n",
    "                       [classic_ml_best_model, transformer_encoder_based_best_model]):\n",
    "    y_pred = model.predict(X_test)\n",
    "    score = f1_score(y_test, y_pred, average=\"micro\")\n",
    "    results[\"name\"].append(name)\n",
    "    results[\"score\"].append(score)\n",
    "    results[\"prediction_speed\"].append(timeit.timeit(lambda: model.predict(X_test), number=1)/X_test.shape[0])"
   ]
  },
  {
   "cell_type": "code",
   "execution_count": 38,
   "id": "571755d5",
   "metadata": {},
   "outputs": [
    {
     "data": {
      "text/html": [
       "<div>\n",
       "<style scoped>\n",
       "    .dataframe tbody tr th:only-of-type {\n",
       "        vertical-align: middle;\n",
       "    }\n",
       "\n",
       "    .dataframe tbody tr th {\n",
       "        vertical-align: top;\n",
       "    }\n",
       "\n",
       "    .dataframe thead th {\n",
       "        text-align: right;\n",
       "    }\n",
       "</style>\n",
       "<table border=\"1\" class=\"dataframe\">\n",
       "  <thead>\n",
       "    <tr style=\"text-align: right;\">\n",
       "      <th></th>\n",
       "      <th>name</th>\n",
       "      <th>score</th>\n",
       "      <th>prediction_speed</th>\n",
       "    </tr>\n",
       "  </thead>\n",
       "  <tbody>\n",
       "    <tr>\n",
       "      <th>0</th>\n",
       "      <td>classic_ml</td>\n",
       "      <td>0.879</td>\n",
       "      <td>0.000011</td>\n",
       "    </tr>\n",
       "    <tr>\n",
       "      <th>1</th>\n",
       "      <td>transformer_encoder_based</td>\n",
       "      <td>0.865</td>\n",
       "      <td>0.029091</td>\n",
       "    </tr>\n",
       "  </tbody>\n",
       "</table>\n",
       "</div>"
      ],
      "text/plain": [
       "                        name  score  prediction_speed\n",
       "0                 classic_ml  0.879          0.000011\n",
       "1  transformer_encoder_based  0.865          0.029091"
      ]
     },
     "execution_count": 38,
     "metadata": {},
     "output_type": "execute_result"
    }
   ],
   "source": [
    "pd.DataFrame(results)"
   ]
  }
 ],
 "metadata": {
  "kernelspec": {
   "display_name": "Python 3 (ipykernel)",
   "language": "python",
   "name": "python3"
  },
  "language_info": {
   "codemirror_mode": {
    "name": "ipython",
    "version": 3
   },
   "file_extension": ".py",
   "mimetype": "text/x-python",
   "name": "python",
   "nbconvert_exporter": "python",
   "pygments_lexer": "ipython3",
   "version": "3.8.5"
  }
 },
 "nbformat": 4,
 "nbformat_minor": 5
}
