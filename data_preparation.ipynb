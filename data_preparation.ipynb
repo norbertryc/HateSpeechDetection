{
 "cells": [
  {
   "cell_type": "code",
   "execution_count": 1,
   "id": "a53989bc",
   "metadata": {},
   "outputs": [],
   "source": [
    "import os\n",
    "\n",
    "import numpy as np\n",
    "import pandas as pd\n",
    "\n",
    "import spacy\n",
    "\n",
    "from sklearn.model_selection import train_test_split"
   ]
  },
  {
   "cell_type": "code",
   "execution_count": 2,
   "id": "451580e6",
   "metadata": {},
   "outputs": [],
   "source": [
    "RANDOM_STATE = 42\n",
    "DATA_FOLDER = \"data/\"\n",
    "\n",
    "#input data files\n",
    "TRAINING_DATA_FILE_X = \"training_set_clean_only_text.txt\"\n",
    "TRAINING_DATA_FILE_y = \"training_set_clean_only_tags.txt\"\n",
    "\n",
    "\n",
    "# output data files (after preprosessing and splitting)\n",
    "X_TRAIN_FILE_NAME = \"X_train.csv\"\n",
    "X_VALID_FILE_NAME = \"X_valid.csv\"\n",
    "\n",
    "Y_TRAIN_FILE_NAME = \"y_train.csv\"\n",
    "Y_VALID_FILE_NAME = \"y_valid.csv\""
   ]
  },
  {
   "cell_type": "code",
   "execution_count": 3,
   "id": "00f94a70",
   "metadata": {},
   "outputs": [],
   "source": [
    "with open(os.path.join(DATA_FOLDER, TRAINING_DATA_FILE_X), \"r\") as input_file:\n",
    "    X = input_file.readlines()\n",
    "    \n",
    "with open(os.path.join(DATA_FOLDER, TRAINING_DATA_FILE_y), \"r\") as input_file:\n",
    "    y = input_file.readlines()\n",
    "    \n",
    "    \n",
    "X = pd.DataFrame([x.strip() for x in X], columns=[\"text\"])\n",
    "y = pd.DataFrame([x.strip() for x in y], columns=[\"label\"])"
   ]
  },
  {
   "cell_type": "code",
   "execution_count": 4,
   "id": "64ada10e",
   "metadata": {},
   "outputs": [
    {
     "data": {
      "text/html": [
       "<div>\n",
       "<style scoped>\n",
       "    .dataframe tbody tr th:only-of-type {\n",
       "        vertical-align: middle;\n",
       "    }\n",
       "\n",
       "    .dataframe tbody tr th {\n",
       "        vertical-align: top;\n",
       "    }\n",
       "\n",
       "    .dataframe thead th {\n",
       "        text-align: right;\n",
       "    }\n",
       "</style>\n",
       "<table border=\"1\" class=\"dataframe\">\n",
       "  <thead>\n",
       "    <tr style=\"text-align: right;\">\n",
       "      <th></th>\n",
       "      <th>text</th>\n",
       "    </tr>\n",
       "  </thead>\n",
       "  <tbody>\n",
       "    <tr>\n",
       "      <th>0</th>\n",
       "      <td>Dla mnie faworytem do tytułu będzie Cracovia. ...</td>\n",
       "    </tr>\n",
       "    <tr>\n",
       "      <th>1</th>\n",
       "      <td>@anonymized_account @anonymized_account Brawo ...</td>\n",
       "    </tr>\n",
       "    <tr>\n",
       "      <th>2</th>\n",
       "      <td>@anonymized_account @anonymized_account Super,...</td>\n",
       "    </tr>\n",
       "    <tr>\n",
       "      <th>3</th>\n",
       "      <td>@anonymized_account @anonymized_account Musi. ...</td>\n",
       "    </tr>\n",
       "    <tr>\n",
       "      <th>4</th>\n",
       "      <td>Odrzut natychmiastowy, kwaśna mina, mam problem</td>\n",
       "    </tr>\n",
       "  </tbody>\n",
       "</table>\n",
       "</div>"
      ],
      "text/plain": [
       "                                                text\n",
       "0  Dla mnie faworytem do tytułu będzie Cracovia. ...\n",
       "1  @anonymized_account @anonymized_account Brawo ...\n",
       "2  @anonymized_account @anonymized_account Super,...\n",
       "3  @anonymized_account @anonymized_account Musi. ...\n",
       "4    Odrzut natychmiastowy, kwaśna mina, mam problem"
      ]
     },
     "execution_count": 4,
     "metadata": {},
     "output_type": "execute_result"
    }
   ],
   "source": [
    "X.head()"
   ]
  },
  {
   "cell_type": "code",
   "execution_count": 5,
   "id": "37bb18cd",
   "metadata": {},
   "outputs": [
    {
     "data": {
      "text/html": [
       "<div>\n",
       "<style scoped>\n",
       "    .dataframe tbody tr th:only-of-type {\n",
       "        vertical-align: middle;\n",
       "    }\n",
       "\n",
       "    .dataframe tbody tr th {\n",
       "        vertical-align: top;\n",
       "    }\n",
       "\n",
       "    .dataframe thead th {\n",
       "        text-align: right;\n",
       "    }\n",
       "</style>\n",
       "<table border=\"1\" class=\"dataframe\">\n",
       "  <thead>\n",
       "    <tr style=\"text-align: right;\">\n",
       "      <th></th>\n",
       "      <th>label</th>\n",
       "    </tr>\n",
       "  </thead>\n",
       "  <tbody>\n",
       "    <tr>\n",
       "      <th>0</th>\n",
       "      <td>0</td>\n",
       "    </tr>\n",
       "    <tr>\n",
       "      <th>1</th>\n",
       "      <td>0</td>\n",
       "    </tr>\n",
       "    <tr>\n",
       "      <th>2</th>\n",
       "      <td>0</td>\n",
       "    </tr>\n",
       "    <tr>\n",
       "      <th>3</th>\n",
       "      <td>0</td>\n",
       "    </tr>\n",
       "    <tr>\n",
       "      <th>4</th>\n",
       "      <td>0</td>\n",
       "    </tr>\n",
       "  </tbody>\n",
       "</table>\n",
       "</div>"
      ],
      "text/plain": [
       "  label\n",
       "0     0\n",
       "1     0\n",
       "2     0\n",
       "3     0\n",
       "4     0"
      ]
     },
     "execution_count": 5,
     "metadata": {},
     "output_type": "execute_result"
    }
   ],
   "source": [
    "y.head()"
   ]
  },
  {
   "cell_type": "code",
   "execution_count": 6,
   "id": "9e53b369",
   "metadata": {},
   "outputs": [
    {
     "data": {
      "text/plain": [
       "((10041, 1), (10041, 1))"
      ]
     },
     "execution_count": 6,
     "metadata": {},
     "output_type": "execute_result"
    }
   ],
   "source": [
    "X.shape, y.shape"
   ]
  },
  {
   "cell_type": "markdown",
   "id": "bac219f0",
   "metadata": {},
   "source": [
    "Rzut okiem na przykłądowy pełny tekst:"
   ]
  },
  {
   "cell_type": "code",
   "execution_count": 7,
   "id": "fd1a2904",
   "metadata": {},
   "outputs": [
    {
     "data": {
      "text/plain": [
       "'Dla mnie faworytem do tytułu będzie Cracovia. Zobaczymy, czy typ się sprawdzi.'"
      ]
     },
     "execution_count": 7,
     "metadata": {},
     "output_type": "execute_result"
    }
   ],
   "source": [
    "X.iloc[0][0]"
   ]
  },
  {
   "cell_type": "markdown",
   "id": "81f52ec0",
   "metadata": {},
   "source": [
    "Czy nie ma jakichś błędów w danych?"
   ]
  },
  {
   "cell_type": "code",
   "execution_count": 8,
   "id": "b05329e2",
   "metadata": {
    "scrolled": true
   },
   "outputs": [
    {
     "data": {
      "text/plain": [
       "(0, 0)"
      ]
     },
     "execution_count": 8,
     "metadata": {},
     "output_type": "execute_result"
    }
   ],
   "source": [
    "pd.isnull(X.text).sum(), pd.isna(X.text).sum()"
   ]
  },
  {
   "cell_type": "markdown",
   "id": "34219495",
   "metadata": {},
   "source": [
    "Czy są puste napisy?"
   ]
  },
  {
   "cell_type": "code",
   "execution_count": 9,
   "id": "b1c63d61",
   "metadata": {},
   "outputs": [
    {
     "data": {
      "text/plain": [
       "(6, 214)"
      ]
     },
     "execution_count": 9,
     "metadata": {},
     "output_type": "execute_result"
    }
   ],
   "source": [
    "text_lengths = X.text.str.len()\n",
    "text_lengths.min(), text_lengths.max()"
   ]
  },
  {
   "cell_type": "markdown",
   "id": "94571cf8",
   "metadata": {},
   "source": [
    "Rzut okiem na podejrzanie krótkie napisy:"
   ]
  },
  {
   "cell_type": "code",
   "execution_count": 10,
   "id": "26eb74cb",
   "metadata": {},
   "outputs": [
    {
     "data": {
      "text/html": [
       "<div>\n",
       "<style scoped>\n",
       "    .dataframe tbody tr th:only-of-type {\n",
       "        vertical-align: middle;\n",
       "    }\n",
       "\n",
       "    .dataframe tbody tr th {\n",
       "        vertical-align: top;\n",
       "    }\n",
       "\n",
       "    .dataframe thead th {\n",
       "        text-align: right;\n",
       "    }\n",
       "</style>\n",
       "<table border=\"1\" class=\"dataframe\">\n",
       "  <thead>\n",
       "    <tr style=\"text-align: right;\">\n",
       "      <th></th>\n",
       "      <th>text</th>\n",
       "    </tr>\n",
       "  </thead>\n",
       "  <tbody>\n",
       "    <tr>\n",
       "      <th>528</th>\n",
       "      <td>#NAME?</td>\n",
       "    </tr>\n",
       "    <tr>\n",
       "      <th>1918</th>\n",
       "      <td>#NAME?</td>\n",
       "    </tr>\n",
       "    <tr>\n",
       "      <th>2081</th>\n",
       "      <td>#NAME?</td>\n",
       "    </tr>\n",
       "    <tr>\n",
       "      <th>3201</th>\n",
       "      <td>#NAME?</td>\n",
       "    </tr>\n",
       "    <tr>\n",
       "      <th>5567</th>\n",
       "      <td>#NAME?</td>\n",
       "    </tr>\n",
       "    <tr>\n",
       "      <th>5735</th>\n",
       "      <td>#NAME?</td>\n",
       "    </tr>\n",
       "    <tr>\n",
       "      <th>6085</th>\n",
       "      <td>#NAME?</td>\n",
       "    </tr>\n",
       "    <tr>\n",
       "      <th>7341</th>\n",
       "      <td>#NAME?</td>\n",
       "    </tr>\n",
       "    <tr>\n",
       "      <th>7424</th>\n",
       "      <td>#NAME?</td>\n",
       "    </tr>\n",
       "    <tr>\n",
       "      <th>8746</th>\n",
       "      <td>#NAME?</td>\n",
       "    </tr>\n",
       "    <tr>\n",
       "      <th>8811</th>\n",
       "      <td>#NAME?</td>\n",
       "    </tr>\n",
       "    <tr>\n",
       "      <th>8857</th>\n",
       "      <td>#NAME?</td>\n",
       "    </tr>\n",
       "    <tr>\n",
       "      <th>9809</th>\n",
       "      <td>#NAME?</td>\n",
       "    </tr>\n",
       "  </tbody>\n",
       "</table>\n",
       "</div>"
      ],
      "text/plain": [
       "        text\n",
       "528   #NAME?\n",
       "1918  #NAME?\n",
       "2081  #NAME?\n",
       "3201  #NAME?\n",
       "5567  #NAME?\n",
       "5735  #NAME?\n",
       "6085  #NAME?\n",
       "7341  #NAME?\n",
       "7424  #NAME?\n",
       "8746  #NAME?\n",
       "8811  #NAME?\n",
       "8857  #NAME?\n",
       "9809  #NAME?"
      ]
     },
     "execution_count": 10,
     "metadata": {},
     "output_type": "execute_result"
    }
   ],
   "source": [
    "X[text_lengths == 6]"
   ]
  },
  {
   "cell_type": "markdown",
   "id": "01584668",
   "metadata": {},
   "source": [
    "Z opisu danych (a konkretnei fragmentu 'The preprocessing, if used, will be applied mostly for cases when information about a private person is revealed to the public\") wnisokuję, że to anonimizacja danych osobowych (imion czy nazwisk).\n",
    "\n",
    "Sprawdzam, czy może gdzieś jeszcze się to pojawia?"
   ]
  },
  {
   "cell_type": "code",
   "execution_count": 11,
   "id": "e1821ff6",
   "metadata": {},
   "outputs": [
    {
     "data": {
      "text/plain": [
       "528     #NAME?\n",
       "1918    #NAME?\n",
       "2081    #NAME?\n",
       "3201    #NAME?\n",
       "5567    #NAME?\n",
       "5735    #NAME?\n",
       "6085    #NAME?\n",
       "7341    #NAME?\n",
       "7424    #NAME?\n",
       "8746    #NAME?\n",
       "8811    #NAME?\n",
       "8857    #NAME?\n",
       "9809    #NAME?\n",
       "Name: text, dtype: object"
      ]
     },
     "execution_count": 11,
     "metadata": {},
     "output_type": "execute_result"
    }
   ],
   "source": [
    "X.text[X.text.apply(lambda x: \"#NAME?\" in x)]"
   ]
  },
  {
   "cell_type": "code",
   "execution_count": 12,
   "id": "c80b35ce",
   "metadata": {},
   "outputs": [
    {
     "data": {
      "text/html": [
       "<div>\n",
       "<style scoped>\n",
       "    .dataframe tbody tr th:only-of-type {\n",
       "        vertical-align: middle;\n",
       "    }\n",
       "\n",
       "    .dataframe tbody tr th {\n",
       "        vertical-align: top;\n",
       "    }\n",
       "\n",
       "    .dataframe thead th {\n",
       "        text-align: right;\n",
       "    }\n",
       "</style>\n",
       "<table border=\"1\" class=\"dataframe\">\n",
       "  <thead>\n",
       "    <tr style=\"text-align: right;\">\n",
       "      <th></th>\n",
       "      <th>label</th>\n",
       "    </tr>\n",
       "  </thead>\n",
       "  <tbody>\n",
       "    <tr>\n",
       "      <th>528</th>\n",
       "      <td>0</td>\n",
       "    </tr>\n",
       "    <tr>\n",
       "      <th>1918</th>\n",
       "      <td>0</td>\n",
       "    </tr>\n",
       "    <tr>\n",
       "      <th>2081</th>\n",
       "      <td>0</td>\n",
       "    </tr>\n",
       "    <tr>\n",
       "      <th>3201</th>\n",
       "      <td>0</td>\n",
       "    </tr>\n",
       "    <tr>\n",
       "      <th>5567</th>\n",
       "      <td>0</td>\n",
       "    </tr>\n",
       "    <tr>\n",
       "      <th>5735</th>\n",
       "      <td>0</td>\n",
       "    </tr>\n",
       "    <tr>\n",
       "      <th>6085</th>\n",
       "      <td>0</td>\n",
       "    </tr>\n",
       "    <tr>\n",
       "      <th>7341</th>\n",
       "      <td>0</td>\n",
       "    </tr>\n",
       "    <tr>\n",
       "      <th>7424</th>\n",
       "      <td>0</td>\n",
       "    </tr>\n",
       "    <tr>\n",
       "      <th>8746</th>\n",
       "      <td>0</td>\n",
       "    </tr>\n",
       "    <tr>\n",
       "      <th>8811</th>\n",
       "      <td>0</td>\n",
       "    </tr>\n",
       "    <tr>\n",
       "      <th>8857</th>\n",
       "      <td>0</td>\n",
       "    </tr>\n",
       "    <tr>\n",
       "      <th>9809</th>\n",
       "      <td>0</td>\n",
       "    </tr>\n",
       "  </tbody>\n",
       "</table>\n",
       "</div>"
      ],
      "text/plain": [
       "     label\n",
       "528      0\n",
       "1918     0\n",
       "2081     0\n",
       "3201     0\n",
       "5567     0\n",
       "5735     0\n",
       "6085     0\n",
       "7341     0\n",
       "7424     0\n",
       "8746     0\n",
       "8811     0\n",
       "8857     0\n",
       "9809     0"
      ]
     },
     "execution_count": 12,
     "metadata": {},
     "output_type": "execute_result"
    }
   ],
   "source": [
    "y[X.text.apply(lambda x: \"#NAME?\" in x)]"
   ]
  },
  {
   "cell_type": "markdown",
   "id": "e765743f",
   "metadata": {},
   "source": [
    "Same zera. \n",
    "\n",
    "Usunę te obserwacje, ponieważ wprowadzają one tylko szum do danych i nic nie wnoszą. Jeżeli w danych, an których będziemy dokonywać predykcji pojawi się tweet takiej postacji, to można byłoby przyjąć regułkę, że przypisujemy tam zero. Natomiast pominiemy to, ponieważ zakłądam, że w realnym scenariuszu biznesowym takich tweetów nie będzie, bo to nie ma sensu."
   ]
  },
  {
   "cell_type": "code",
   "execution_count": 13,
   "id": "d31ca869",
   "metadata": {},
   "outputs": [
    {
     "data": {
      "text/plain": [
       "(10028, 10028)"
      ]
     },
     "execution_count": 13,
     "metadata": {},
     "output_type": "execute_result"
    }
   ],
   "source": [
    "rows_to_drop = X.text.apply(lambda x: \"#NAME?\" in x)\n",
    "\n",
    "X = X[~rows_to_drop]\n",
    "y = y[~rows_to_drop]\n",
    "\n",
    "X.shape[0], y.shape[0]"
   ]
  },
  {
   "cell_type": "markdown",
   "id": "0bcb169c",
   "metadata": {},
   "source": [
    "Rzut okiem na pozostałe \"skrajne\" tweety (drugie od najkrótszych i najdłuższe) - czy nie ma tam jakichś problemów."
   ]
  },
  {
   "cell_type": "code",
   "execution_count": 14,
   "id": "b395ed71",
   "metadata": {},
   "outputs": [],
   "source": [
    "text_lengths = X.text.str.len()"
   ]
  },
  {
   "cell_type": "code",
   "execution_count": 15,
   "id": "0fab48d8",
   "metadata": {},
   "outputs": [
    {
     "data": {
      "text/plain": [
       "(18, 214)"
      ]
     },
     "execution_count": 15,
     "metadata": {},
     "output_type": "execute_result"
    }
   ],
   "source": [
    "text_lengths.min(), text_lengths.max()"
   ]
  },
  {
   "cell_type": "code",
   "execution_count": 16,
   "id": "2c4390ae",
   "metadata": {},
   "outputs": [
    {
     "data": {
      "text/plain": [
       "'Co to miało być? 😂'"
      ]
     },
     "execution_count": 16,
     "metadata": {},
     "output_type": "execute_result"
    }
   ],
   "source": [
    "X[text_lengths == text_lengths.min()].iloc[0,0]"
   ]
  },
  {
   "cell_type": "code",
   "execution_count": 17,
   "id": "30457a9a",
   "metadata": {},
   "outputs": [
    {
     "data": {
      "text/plain": [
       "'@anonymized_account @anonymized_account @anonymized_account @anonymized_account @anonymized_account @anonymized_account @anonymized_account @anonymized_account @anonymized_account Dla nich każda prawda to chamstwo.'"
      ]
     },
     "execution_count": 17,
     "metadata": {},
     "output_type": "execute_result"
    }
   ],
   "source": [
    "X[text_lengths == text_lengths.max()].iloc[0,0]"
   ]
  },
  {
   "cell_type": "markdown",
   "id": "a2c8ba2f",
   "metadata": {},
   "source": [
    "To pobieżne sprawdzenie, ale ze względu na czas uznaję, że dane już są \"czyste\". W praktyce, sprawdzałbym to dokładniej i dłużej.\n",
    "\n",
    "Rzut okiem na rozkład zmiennej celu."
   ]
  },
  {
   "cell_type": "code",
   "execution_count": 18,
   "id": "6dcf0175",
   "metadata": {},
   "outputs": [
    {
     "data": {
      "text/plain": [
       "label\n",
       "0        0.915138\n",
       "2        0.059633\n",
       "1        0.025229\n",
       "dtype: float64"
      ]
     },
     "execution_count": 18,
     "metadata": {},
     "output_type": "execute_result"
    }
   ],
   "source": [
    "y.value_counts(normalize=True)"
   ]
  },
  {
   "cell_type": "markdown",
   "id": "c7d78f94",
   "metadata": {},
   "source": [
    "Rozkład silnie niezbalansowany - potrzebna dopasowana miara jakości (c zresztą wiadomo już z opisu danych na polevalu, a i tak nawet bez tego to było do przewidzenia:)) oraz prawdopodobnie przydatne techniki dla niezbalansowanych danych.\n",
    "\n",
    "Dodamy do danych text w wersji zlematyzowanej."
   ]
  },
  {
   "cell_type": "code",
   "execution_count": 19,
   "id": "7e36fe73",
   "metadata": {},
   "outputs": [],
   "source": [
    "NLP = spacy.load('pl_core_news_sm')"
   ]
  },
  {
   "cell_type": "code",
   "execution_count": 20,
   "id": "a57f41fa",
   "metadata": {},
   "outputs": [],
   "source": [
    "def lemmatize(x):\n",
    "    doc = NLP(x) \n",
    "    return \" \".join([token.lemma_ for token in doc])"
   ]
  },
  {
   "cell_type": "code",
   "execution_count": 21,
   "id": "4f4ee135",
   "metadata": {},
   "outputs": [],
   "source": [
    "X[\"text_lemmatized\"] = X.text.apply(lemmatize)"
   ]
  },
  {
   "cell_type": "markdown",
   "id": "51bd995f",
   "metadata": {},
   "source": [
    "Rzut okiem czy się coś nie zepsuło:"
   ]
  },
  {
   "cell_type": "code",
   "execution_count": 22,
   "id": "d213ead9",
   "metadata": {},
   "outputs": [
    {
     "data": {
      "text/html": [
       "<div>\n",
       "<style scoped>\n",
       "    .dataframe tbody tr th:only-of-type {\n",
       "        vertical-align: middle;\n",
       "    }\n",
       "\n",
       "    .dataframe tbody tr th {\n",
       "        vertical-align: top;\n",
       "    }\n",
       "\n",
       "    .dataframe thead th {\n",
       "        text-align: right;\n",
       "    }\n",
       "</style>\n",
       "<table border=\"1\" class=\"dataframe\">\n",
       "  <thead>\n",
       "    <tr style=\"text-align: right;\">\n",
       "      <th></th>\n",
       "      <th>text</th>\n",
       "      <th>text_lemmatized</th>\n",
       "    </tr>\n",
       "  </thead>\n",
       "  <tbody>\n",
       "    <tr>\n",
       "      <th>0</th>\n",
       "      <td>Dla mnie faworytem do tytułu będzie Cracovia. ...</td>\n",
       "      <td>dla ja faworyt do tytuł być cracovia . zobaczy...</td>\n",
       "    </tr>\n",
       "    <tr>\n",
       "      <th>1</th>\n",
       "      <td>@anonymized_account @anonymized_account Brawo ...</td>\n",
       "      <td>@anonymized_account @anonymized_account brawo ...</td>\n",
       "    </tr>\n",
       "    <tr>\n",
       "      <th>2</th>\n",
       "      <td>@anonymized_account @anonymized_account Super,...</td>\n",
       "      <td>@anonymized_account @anonymized_account super ...</td>\n",
       "    </tr>\n",
       "    <tr>\n",
       "      <th>3</th>\n",
       "      <td>@anonymized_account @anonymized_account Musi. ...</td>\n",
       "      <td>@anonymized_account @anonymized_account musić ...</td>\n",
       "    </tr>\n",
       "    <tr>\n",
       "      <th>4</th>\n",
       "      <td>Odrzut natychmiastowy, kwaśna mina, mam problem</td>\n",
       "      <td>odrzut natychmiastowy , kwaśna mina , mieć pro...</td>\n",
       "    </tr>\n",
       "    <tr>\n",
       "      <th>...</th>\n",
       "      <td>...</td>\n",
       "      <td>...</td>\n",
       "    </tr>\n",
       "    <tr>\n",
       "      <th>10036</th>\n",
       "      <td>@anonymized_account Ty zagrasz? Nie wiedziałem 😉</td>\n",
       "      <td>@anonymized_account ty zagrać ? nie wiedzieć 😉</td>\n",
       "    </tr>\n",
       "    <tr>\n",
       "      <th>10037</th>\n",
       "      <td>@anonymized_account @anonymized_account A VAR ...</td>\n",
       "      <td>@anonymized_account @anonymized_account a var ...</td>\n",
       "    </tr>\n",
       "    <tr>\n",
       "      <th>10038</th>\n",
       "      <td>@anonymized_account @anonymized_account Szanow...</td>\n",
       "      <td>@anonymized_account @anonymized_account szanow...</td>\n",
       "    </tr>\n",
       "    <tr>\n",
       "      <th>10039</th>\n",
       "      <td>@anonymized_account @anonymized_account @anony...</td>\n",
       "      <td>@anonymized_account @anonymized_account @anony...</td>\n",
       "    </tr>\n",
       "    <tr>\n",
       "      <th>10040</th>\n",
       "      <td>@anonymized_account A wróżbita Maciej mówi że ...</td>\n",
       "      <td>@anonymized_account a wróżbit Macieja mówić że...</td>\n",
       "    </tr>\n",
       "  </tbody>\n",
       "</table>\n",
       "<p>10028 rows × 2 columns</p>\n",
       "</div>"
      ],
      "text/plain": [
       "                                                    text  \\\n",
       "0      Dla mnie faworytem do tytułu będzie Cracovia. ...   \n",
       "1      @anonymized_account @anonymized_account Brawo ...   \n",
       "2      @anonymized_account @anonymized_account Super,...   \n",
       "3      @anonymized_account @anonymized_account Musi. ...   \n",
       "4        Odrzut natychmiastowy, kwaśna mina, mam problem   \n",
       "...                                                  ...   \n",
       "10036   @anonymized_account Ty zagrasz? Nie wiedziałem 😉   \n",
       "10037  @anonymized_account @anonymized_account A VAR ...   \n",
       "10038  @anonymized_account @anonymized_account Szanow...   \n",
       "10039  @anonymized_account @anonymized_account @anony...   \n",
       "10040  @anonymized_account A wróżbita Maciej mówi że ...   \n",
       "\n",
       "                                         text_lemmatized  \n",
       "0      dla ja faworyt do tytuł być cracovia . zobaczy...  \n",
       "1      @anonymized_account @anonymized_account brawo ...  \n",
       "2      @anonymized_account @anonymized_account super ...  \n",
       "3      @anonymized_account @anonymized_account musić ...  \n",
       "4      odrzut natychmiastowy , kwaśna mina , mieć pro...  \n",
       "...                                                  ...  \n",
       "10036     @anonymized_account ty zagrać ? nie wiedzieć 😉  \n",
       "10037  @anonymized_account @anonymized_account a var ...  \n",
       "10038  @anonymized_account @anonymized_account szanow...  \n",
       "10039  @anonymized_account @anonymized_account @anony...  \n",
       "10040  @anonymized_account a wróżbit Macieja mówić że...  \n",
       "\n",
       "[10028 rows x 2 columns]"
      ]
     },
     "execution_count": 22,
     "metadata": {},
     "output_type": "execute_result"
    }
   ],
   "source": [
    "X"
   ]
  },
  {
   "cell_type": "markdown",
   "id": "93ee852c",
   "metadata": {},
   "source": [
    "Podział na dane treningowe i walidacyjne wykonuję z zachowaniem proporcji klas w obu podgrupach. Niektórzy uznają to za podejście niepoprawne (ponieważ wartości z danych wpływają na podział), ale ja uważam, że tak należy robić, ponieważ w przeciwnym przypadku pechowego podziału, ocena może być mocno niestabilna/zaburzona. Koniec konieców, i tak to jest tylko zbiór walidacyjny, który zostanie wykorzystany do optymalizacji rozwiązań - ostateczna ocena zostanie jeszcze przeprowadzona na zbiorze testowym dostarczonym w konkursie."
   ]
  },
  {
   "cell_type": "code",
   "execution_count": 23,
   "id": "be87c30c",
   "metadata": {},
   "outputs": [],
   "source": [
    "X_train, X_valid, y_train, y_valid = train_test_split(X, y, test_size=1000, stratify=y, random_state=RANDOM_STATE)"
   ]
  },
  {
   "cell_type": "code",
   "execution_count": 24,
   "id": "5fe494de",
   "metadata": {},
   "outputs": [
    {
     "data": {
      "text/plain": [
       "(label\n",
       " 0        0.915153\n",
       " 2        0.059592\n",
       " 1        0.025255\n",
       " dtype: float64,\n",
       " label\n",
       " 0        0.915\n",
       " 2        0.060\n",
       " 1        0.025\n",
       " dtype: float64)"
      ]
     },
     "execution_count": 24,
     "metadata": {},
     "output_type": "execute_result"
    }
   ],
   "source": [
    "y_train.value_counts(normalize=True), y_valid.value_counts(normalize=True)"
   ]
  },
  {
   "cell_type": "code",
   "execution_count": 25,
   "id": "6dde687e",
   "metadata": {},
   "outputs": [],
   "source": [
    "X_train.to_csv(os.path.join(DATA_FOLDER, X_TRAIN_FILE_NAME))\n",
    "X_valid.to_csv(os.path.join(DATA_FOLDER, X_VALID_FILE_NAME))\n",
    "\n",
    "y_train.to_csv(os.path.join(DATA_FOLDER, Y_TRAIN_FILE_NAME))\n",
    "y_valid.to_csv(os.path.join(DATA_FOLDER, Y_VALID_FILE_NAME))"
   ]
  }
 ],
 "metadata": {
  "kernelspec": {
   "display_name": "Python 3 (ipykernel)",
   "language": "python",
   "name": "python3"
  },
  "language_info": {
   "codemirror_mode": {
    "name": "ipython",
    "version": 3
   },
   "file_extension": ".py",
   "mimetype": "text/x-python",
   "name": "python",
   "nbconvert_exporter": "python",
   "pygments_lexer": "ipython3",
   "version": "3.8.5"
  }
 },
 "nbformat": 4,
 "nbformat_minor": 5
}
