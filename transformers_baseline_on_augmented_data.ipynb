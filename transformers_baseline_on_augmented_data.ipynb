{
 "cells": [
  {
   "cell_type": "code",
   "execution_count": 1,
   "id": "57c50ca0",
   "metadata": {},
   "outputs": [],
   "source": [
    "import os\n",
    "import pickle\n",
    "import json\n",
    "\n",
    "import numpy as np\n",
    "import pandas as pd\n",
    "\n",
    "from sklearn.pipeline import Pipeline\n",
    "from sklearn.model_selection import GridSearchCV, train_test_split, cross_val_score, cross_val_predict\n",
    "from sklearn.metrics import accuracy_score, f1_score, roc_auc_score\n",
    "\n",
    "from sklearn.preprocessing import StandardScaler\n",
    "\n",
    "from sklearn.svm import LinearSVC\n",
    "from sklearn.neural_network import MLPClassifier\n",
    "\n",
    "import mlflow\n",
    "\n",
    "import torch\n",
    "from transformers import RobertaModel, AutoModel, PreTrainedTokenizerFast"
   ]
  },
  {
   "cell_type": "code",
   "execution_count": 2,
   "id": "ce811e9f",
   "metadata": {},
   "outputs": [],
   "source": [
    "SCORING = \"f1_micro\"\n",
    "\n",
    "RANDOM_STATE = 42\n",
    "\n",
    "\n",
    "DATA_FOLDER = \"data/\"\n",
    "\n",
    "X_TRAIN_FILE_NAME = \"X_train_augmented.csv\"\n",
    "X_VALID_FILE_NAME = \"X_valid.csv\"\n",
    "\n",
    "Y_TRAIN_FILE_NAME = \"y_train_augmented.csv\"\n",
    "Y_VALID_FILE_NAME = \"y_valid.csv\"\n",
    "\n",
    "\n",
    "X_train = pd.read_csv(os.path.join(DATA_FOLDER, X_TRAIN_FILE_NAME), index_col=0)\n",
    "X_valid = pd.read_csv(os.path.join(DATA_FOLDER, X_VALID_FILE_NAME), index_col=0)\n",
    "\n",
    "y_train = pd.read_csv(os.path.join(DATA_FOLDER, Y_TRAIN_FILE_NAME), index_col=0).iloc[:,0]\n",
    "y_valid = pd.read_csv(os.path.join(DATA_FOLDER, Y_VALID_FILE_NAME), index_col=0).iloc[:,0]"
   ]
  },
  {
   "cell_type": "code",
   "execution_count": 3,
   "id": "02e8abcb",
   "metadata": {},
   "outputs": [
    {
     "name": "stderr",
     "output_type": "stream",
     "text": [
      "Some weights of the model checkpoint at roberta_base_transformers were not used when initializing RobertaModel: ['lm_head.dense.weight', 'lm_head.layer_norm.bias', 'lm_head.decoder.weight', 'lm_head.decoder.bias', 'lm_head.bias', 'lm_head.layer_norm.weight', 'lm_head.dense.bias']\n",
      "- This IS expected if you are initializing RobertaModel from the checkpoint of a model trained on another task or with another architecture (e.g. initializing a BertForSequenceClassification model from a BertForPreTraining model).\n",
      "- This IS NOT expected if you are initializing RobertaModel from the checkpoint of a model that you expect to be exactly identical (initializing a BertForSequenceClassification model from a BertForSequenceClassification model).\n",
      "Some weights of RobertaModel were not initialized from the model checkpoint at roberta_base_transformers and are newly initialized: ['roberta.pooler.dense.weight', 'roberta.pooler.dense.bias']\n",
      "You should probably TRAIN this model on a down-stream task to be able to use it for predictions and inference.\n"
     ]
    }
   ],
   "source": [
    "model_dir = \"roberta_base_transformers\"\n",
    "TOKENIZER = PreTrainedTokenizerFast(tokenizer_file=os.path.join(model_dir, \"tokenizer.json\"))\n",
    "MODEL: RobertaModel = AutoModel.from_pretrained(model_dir)\n",
    "    \n",
    "def embedd_text(x):\n",
    "    \n",
    "    x_tokenized = TOKENIZER.encode(x)\n",
    "    x_encoded = MODEL(torch.tensor([x_tokenized]))[0][0][1].detach().numpy()\n",
    "    \n",
    "    return x_encoded"
   ]
  },
  {
   "cell_type": "code",
   "execution_count": 4,
   "id": "4ca6a78a",
   "metadata": {},
   "outputs": [
    {
     "data": {
      "text/plain": [
       "((10262, 768), (1000, 768))"
      ]
     },
     "execution_count": 4,
     "metadata": {},
     "output_type": "execute_result"
    }
   ],
   "source": [
    "X_train = np.array([embedd_text(x) for x in X_train.text.values])\n",
    "X_valid = np.array([embedd_text(x) for x in X_valid.text.values])\n",
    "\n",
    "X_train.shape, X_valid.shape"
   ]
  },
  {
   "cell_type": "code",
   "execution_count": 5,
   "id": "fc884496",
   "metadata": {},
   "outputs": [],
   "source": [
    "pipelines = [\n",
    "       Pipeline([\n",
    "            (\"scaler\", StandardScaler()),\n",
    "            (\"model\", LinearSVC())\n",
    "    ]),\n",
    "       Pipeline([\n",
    "            (\"scaler\", StandardScaler()),\n",
    "            (\"model\", MLPClassifier())\n",
    "    ])\n",
    "]\n",
    "\n",
    "param_grids = [\n",
    "    \n",
    "    # kombinacje dla pierwszego klasyfikatora\n",
    "    {\n",
    "        \"model__C\": [0.01, 0.1, 1, 10],\n",
    "        \"model__class_weight\": [None, \"balanced\", {0:1, 1:5, 2:20}, {0:1, 1:10, 2:30}]\n",
    "    },\n",
    "\n",
    "    # kombinacje dla drugiego klasyfikatora\n",
    "    {\n",
    "        \"model__hidden_layer_sizes\": [16, 32, 64, 128, (32, 8)]\n",
    "    }\n",
    "]"
   ]
  },
  {
   "cell_type": "code",
   "execution_count": 6,
   "id": "8d3d4dff",
   "metadata": {},
   "outputs": [
    {
     "name": "stdout",
     "output_type": "stream",
     "text": [
      "INFO: 'text_encodind_with_bert_based_models_on_augmented_aata' does not exist. Creating a new experiment\n"
     ]
    },
    {
     "name": "stderr",
     "output_type": "stream",
     "text": [
      "/home/nor/anaconda3/lib/python3.8/site-packages/sklearn/svm/_base.py:985: ConvergenceWarning: Liblinear failed to converge, increase the number of iterations.\n",
      "  warnings.warn(\"Liblinear failed to converge, increase \"\n",
      "/home/nor/anaconda3/lib/python3.8/site-packages/sklearn/svm/_base.py:985: ConvergenceWarning: Liblinear failed to converge, increase the number of iterations.\n",
      "  warnings.warn(\"Liblinear failed to converge, increase \"\n"
     ]
    }
   ],
   "source": [
    "X = np.concatenate([X_train, X_valid])\n",
    "y = pd.concat([y_train, y_valid])\n",
    "\n",
    "n = X.shape[0]\n",
    "\n",
    "IND_TRAIN = np.arange(0, n-X_valid.shape[0], dtype=int)\n",
    "INT_VAL = np.arange(n-X_valid.shape[0], n, dtype=int)\n",
    "\n",
    "def train_valid_split():\n",
    "    yield IND_TRAIN, INT_VAL \n",
    "    \n",
    "\n",
    "mlflow.set_experiment(\"text_encodind_with_bert_based_models_on_augmented_aata\")\n",
    "\n",
    "for pipeline, param_grid in zip(pipelines, param_grids):\n",
    "    with mlflow.start_run():\n",
    "        optimizer = GridSearchCV(pipeline, param_grid, \n",
    "                                 scoring = SCORING,\n",
    "                                 cv = train_valid_split(), \n",
    "                                 n_jobs=-1,\n",
    "                                 refit=True)\n",
    "        optimizer.fit(X, y)\n",
    "\n",
    "        best_model = pipeline\n",
    "        best_model.set_params(**optimizer.best_params_)\n",
    "        best_model.fit(X_train, y_train)\n",
    "        # we calculate additional metrics only for best set of parameters        \n",
    "        y_val_pred = best_model.predict(X_valid)\n",
    "        y_fitted = best_model.predict(X_train)\n",
    "\n",
    "        f1_macro_score = f1_score(y_valid, y_val_pred, average=\"macro\")\n",
    "        acc_score = accuracy_score(y_valid, y_val_pred)\n",
    "\n",
    "        f1_micro_score_train = f1_score(y_train, y_fitted, average=\"micro\")\n",
    "        f1_macro_score_train = f1_score(y_train, y_fitted, average=\"macro\")\n",
    "        acc_score_train = accuracy_score(y_train, y_fitted)\n",
    "\n",
    "        mlflow.log_param(\"pipeline\", str(pipeline.steps))\n",
    "        mlflow.log_param(\"best_params\", str(optimizer.best_params_))\n",
    "\n",
    "        mlflow.log_metric(\"f1_micro\", optimizer.best_score_)\n",
    "        mlflow.log_metric(\"f1_macro\", f1_macro_score)\n",
    "        mlflow.log_metric(\"accuracy\", acc_score)\n",
    "        mlflow.log_metric(\"f1_micro_train\", f1_micro_score_train)\n",
    "        mlflow.log_metric(\"f1_macro_train\", f1_macro_score_train)\n",
    "        mlflow.log_metric(\"accuracy_train\", acc_score_train)\n",
    "\n",
    "\n",
    "\n",
    "        with open(\"best_model.pkl\", \"wb\") as f:\n",
    "            pickle.dump(optimizer.best_estimator_, f)\n",
    "        mlflow.log_artifact(\"best_model.pkl\")\n",
    "        os.remove(\"best_model.pkl\")\n",
    "\n",
    "        with open(\"best_params.json\", \"w\") as f:\n",
    "            json.dump({k:str(v) for k,v in optimizer.best_params_.items()}, f)\n",
    "        mlflow.log_artifact(\"best_params.json\")\n",
    "        os.remove(\"best_params.json\")\n",
    "\n",
    "        with open(\"optimization_history.json\", \"w\") as f:\n",
    "            json.dump({k:str(v) for k,v in optimizer.cv_results_.items()}, f)\n",
    "        mlflow.log_artifact(\"optimization_history.json\")\n",
    "        os.remove(\"optimization_history.json\")"
   ]
  },
  {
   "cell_type": "code",
   "execution_count": null,
   "id": "9947efef",
   "metadata": {},
   "outputs": [],
   "source": []
  }
 ],
 "metadata": {
  "kernelspec": {
   "display_name": "Python 3 (ipykernel)",
   "language": "python",
   "name": "python3"
  },
  "language_info": {
   "codemirror_mode": {
    "name": "ipython",
    "version": 3
   },
   "file_extension": ".py",
   "mimetype": "text/x-python",
   "name": "python",
   "nbconvert_exporter": "python",
   "pygments_lexer": "ipython3",
   "version": "3.8.5"
  }
 },
 "nbformat": 4,
 "nbformat_minor": 5
}
